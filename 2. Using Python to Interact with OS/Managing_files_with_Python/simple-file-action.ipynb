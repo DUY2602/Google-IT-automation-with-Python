{
 "cells": [
  {
   "cell_type": "markdown",
   "id": "0dbbfa6b-4e08-4125-ae04-11b3afb3631e",
   "metadata": {},
   "source": [
    "# **Opening / Closing & Reading Files**"
   ]
  },
  {
   "cell_type": "code",
   "execution_count": 19,
   "id": "6a25997e-c60e-4fd2-bb12-628d1ba4bebc",
   "metadata": {},
   "outputs": [
    {
     "name": "stdout",
     "output_type": "stream",
     "text": [
      "Team: Manchester City\n",
      "\n",
      "1. Ederson - Goalkeeper\n",
      "\n",
      "<built-in method read of _io.TextIOWrapper object at 0x00000202958B74C0>\n",
      "TEAM: MANCHESTER CITY\n",
      "1. EDERSON - GOALKEEPER\n",
      "2. KYLE WALKER - DEFENDER\n",
      "3. RÚBEN DIAS - DEFENDER\n",
      "4. JOHN STONES - DEFENDER\n",
      "5. KEVIN DE BRUYNE - MIDFIELDER\n",
      "6. PHIL FODEN - MIDFIELDER\n",
      "7. ERLING HAALAND - FORWARD\n",
      "8. JULIÁN ÁLVAREZ - FORWARD\n",
      "\n",
      "TEAM: REAL MADRID\n",
      "1. THIBAUT COURTOIS - GOALKEEPER\n",
      "2. DANI CARVAJAL - DEFENDER\n",
      "3. ÉDER MILITÃO - DEFENDER\n",
      "4. ANTONIO RÜDIGER - DEFENDER\n",
      "5. LUKA MODRIĆ - MIDFIELDER\n",
      "6. JUDE BELLINGHAM - MIDFIELDER\n",
      "7. VINÍCIUS JÚNIOR - FORWARD\n",
      "8. RODRYGO - FORWARD\n",
      "['\\n', '1. Ederson - Goalkeeper\\n', '1. Thibaut Courtois - Goalkeeper\\n', '2. Dani Carvajal - Defender\\n', '2. Kyle Walker - Defender\\n', '3. Rúben Dias - Defender\\n', '3. Éder Militão - Defender\\n', '4. Antonio Rüdiger - Defender\\n', '4. John Stones - Defender\\n', '5. Kevin De Bruyne - Midfielder\\n', '5. Luka Modrić - Midfielder\\n', '6. Jude Bellingham - Midfielder\\n', '6. Phil Foden - Midfielder\\n', '7. Erling Haaland - Forward\\n', '7. Vinícius Júnior - Forward\\n', '8. Julián Álvarez - Forward\\n', '8. Rodrygo - Forward\\n', 'Team: Manchester City\\n', 'Team: Real Madrid\\n']\n"
     ]
    }
   ],
   "source": [
    "# “r”  open for reading (default)\n",
    "\n",
    "# “w”  open for writing, truncating the file first\n",
    "\n",
    "# “x”  open for exclusive creation, failing if the file already exists\n",
    "\n",
    "# “a”  open for writing, appending to the end of the file if it exists\n",
    "\n",
    "# “+”  open for both reading and writing\n",
    "\n",
    "file = open(\"soccer_match.txt\", \"r\", encoding=\"utf-8\")    # Open the file and assign read-only\n",
    "\n",
    "print(file.readline())      # Read the first line\n",
    "print(file.readline())      # Read the second line\n",
    "\n",
    "# for line in file:\n",
    "#     print(line)\n",
    "\n",
    "# print(file.read())        # Read all lines\n",
    "file.close()                # Close the file when finish reading\n",
    "\n",
    "print(file.read)            # <built-in method read of _io.TextIOWrapper object at 0x00000202958B7140> as the file is closed\n",
    "\n",
    "with open(\"soccer_match.txt\", \"r\", encoding=\"utf-8\") as f:\n",
    "    # Using with open help us to automatically open and close the file\n",
    "    for line in f:\n",
    "        print(line.strip().upper())    # Remove leading/trailing spaces and print line in uppercase\n",
    "\n",
    "\n",
    "file = open(\"soccer_match.txt\", encoding=\"utf-8\")\n",
    "lines = file.readlines()\n",
    "file.close()\n",
    "lines.sort()\n",
    "print(lines)"
   ]
  },
  {
   "cell_type": "markdown",
   "id": "3f5140d0-7088-42f2-8491-b0302564ff56",
   "metadata": {},
   "source": [
    "# **Writing Files**"
   ]
  },
  {
   "cell_type": "code",
   "execution_count": 23,
   "id": "9678aceb-02f4-4881-8162-7b86415e1b9a",
   "metadata": {},
   "outputs": [
    {
     "name": "stdout",
     "output_type": "stream",
     "text": [
      "5\n"
     ]
    }
   ],
   "source": [
    "with open(\"soccer_match.txt\", \"w\", encoding=\"utf-8\") as f:    # Write \"w\" mode\n",
    "    print(f.write(\"Hello\"))       # Output number of characters written"
   ]
  },
  {
   "cell_type": "markdown",
   "id": "33cb0a4f-bbb6-4100-a454-6c3afa328b86",
   "metadata": {},
   "source": [
    "# **Exercise: Update Ballon Dor file**"
   ]
  },
  {
   "cell_type": "code",
   "execution_count": 45,
   "id": "ef68c4ee-8248-4a0b-881e-d22e28de00aa",
   "metadata": {},
   "outputs": [
    {
     "name": "stdout",
     "output_type": "stream",
     "text": [
      "Ousmane Dembélé - Paris Saint-Germain\n",
      "\n",
      "Achraf Hakimi - Paris Saint-Germain\n",
      "\n",
      "Nuno Mendes - Paris Saint-Germain\n",
      "\n",
      "Khvicha Kvaratskhelia - Paris Saint-Germain\n",
      "\n",
      "Désiré Doué - Paris Saint-Germain\n",
      "\n",
      "Kylian Mbappé \n",
      "Jude Bellingham \n",
      "There are 2 players from top 10 is in Real Madrid\n"
     ]
    }
   ],
   "source": [
    "top10_ballon_dor_2025 = [\n",
    "    {\"name\": \"Ousmane Dembélé\", \"team\": \"Paris Saint-Germain\"},\n",
    "    {\"name\": \"Lamine Yamal\", \"team\": \"Barcelona\"},\n",
    "    {\"name\": \"Mohamed Salah\", \"team\": \"Liverpool\"},\n",
    "    {\"name\": \"Raphinha\", \"team\": \"Barcelona\"},\n",
    "    {\"name\": \"Achraf Hakimi\", \"team\": \"Paris Saint-Germain\"},\n",
    "    {\"name\": \"Nuno Mendes\", \"team\": \"Paris Saint-Germain\"},\n",
    "    {\"name\": \"Kylian Mbappé\", \"team\": \"Real Madrid\"},\n",
    "    {\"name\": \"Khvicha Kvaratskhelia\", \"team\": \"Paris Saint-Germain\"},\n",
    "    {\"name\": \"Désiré Doué\", \"team\": \"Paris Saint-Germain\"},\n",
    "    {\"name\": \"Jude Bellingham\", \"team\": \"Real Madrid\"}\n",
    "]\n",
    "\n",
    "\n",
    "with open(\"ballon_dor_suggestion.txt\", \"w\", encoding=\"utf-8\") as file:\n",
    "    for player in top10_ballon_dor_2025:\n",
    "        file.write(f\"{player[\"name\"]} - {player[\"team\"]}\" + \"\\n\")\n",
    "\n",
    "with open(\"ballon_dor_suggestion.txt\", \"r\", encoding=\"utf-8\") as file:\n",
    "    for line in file:\n",
    "        name, team = line.split(\"-\", 1)   # Only split base on the first \"-\"\n",
    "        if team.strip() == \"Paris Saint-Germain\":\n",
    "            print(line)\n",
    "\n",
    "def count_suggestion_team(target_team):\n",
    "    with open(\"ballon_dor_suggestion.txt\", \"r\", encoding=\"utf-8\") as file:\n",
    "        count = 0\n",
    "        for line in file:\n",
    "            name, team = line.split(\"-\", 1)\n",
    "            if team.strip() == target_team:\n",
    "                count += 1\n",
    "                print(name)\n",
    "\n",
    "        print(\"There are {} players from top 10 is in {}\".format(count, target_team))\n",
    "\n",
    "count_suggestion_team(\"Real Madrid\")\n"
   ]
  },
  {
   "cell_type": "code",
   "execution_count": null,
   "id": "66a4e397-2b99-4729-8402-1007396550e2",
   "metadata": {},
   "outputs": [],
   "source": []
  }
 ],
 "metadata": {
  "kernelspec": {
   "display_name": "Python [conda env:base] *",
   "language": "python",
   "name": "conda-base-py"
  },
  "language_info": {
   "codemirror_mode": {
    "name": "ipython",
    "version": 3
   },
   "file_extension": ".py",
   "mimetype": "text/x-python",
   "name": "python",
   "nbconvert_exporter": "python",
   "pygments_lexer": "ipython3",
   "version": "3.12.7"
  }
 },
 "nbformat": 4,
 "nbformat_minor": 5
}
