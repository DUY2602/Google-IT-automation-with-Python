{
 "cells": [
  {
   "cell_type": "markdown",
   "id": "384e5dcb-a25a-4b02-98d0-3eaf09adc709",
   "metadata": {},
   "source": [
    "# **Regular expression**"
   ]
  },
  {
   "cell_type": "code",
   "execution_count": 1,
   "id": "f54dbd26-0f4b-4e0e-abdc-7c60fbb843da",
   "metadata": {},
   "outputs": [],
   "source": [
    "import re"
   ]
  },
  {
   "cell_type": "code",
   "execution_count": 15,
   "id": "6998efa4-26ae-4a7c-bd2c-2d95b70fc2e2",
   "metadata": {},
   "outputs": [
    {
     "name": "stdout",
     "output_type": "stream",
     "text": [
      "12345\n",
      "\n",
      "['12345', '67890', '54321']\n",
      "ID: 12345, start: 44, end: 51 \n",
      "\n",
      "ID: 67890, start: 130, end: 137 \n",
      "\n",
      "ID: 54321, start: 205, end: 212 \n",
      "\n",
      "\n",
      "    July 31 07:51:48 mycomputer bad_process[XXX]: ERROR Performing package upgrade\n",
      "    July 31 07:52:12 mycomputer good_process[XXX]: INFO Process completed\n",
      "    July 31 07:53:05 mycomputer bad_process[XXX]: WARNING Disk almost full\n",
      "\n",
      "\n",
      "['', 'July', '31', '07:51:48', 'mycomputer', 'bad_process[12345]:', 'ERROR', 'Performing', 'package', 'upgrade'] ...\n"
     ]
    }
   ],
   "source": [
    "logs = \"\"\"\n",
    "    July 31 07:51:48 mycomputer bad_process[12345]: ERROR Performing package upgrade\n",
    "    July 31 07:52:12 mycomputer good_process[67890]: INFO Process completed\n",
    "    July 31 07:53:05 mycomputer bad_process[54321]: WARNING Disk almost full\n",
    "\"\"\"\n",
    "regex = r\"\\[(\\d+)\\]\"\n",
    "# r: raw string - means keeping all backslashes in regex as part of string, no escaping needed\n",
    "# \\[ and \\]: mark the square bracket pair [] in string log\n",
    "# (): defines a capturing group to extract the matched content\n",
    "# \\d+: matches and extracts one or more digits\n",
    "\n",
    "# result[0]: [12345] - include the bracket in original string\n",
    "# result[1]: 12345 - only the contents inside the bracket\n",
    "\n",
    "\n",
    "search = re.search(regex, logs)\n",
    "print(search[1] + \"\\n\")      # Only return the first matched content\n",
    "\n",
    "find_all = re.findall(regex, logs)\n",
    "print(find_all)             # Find all matched content\n",
    "\n",
    "find_iter = re.finditer(regex, logs)       # Return matched content with position\n",
    "for m in find_iter:\n",
    "    print(f\"ID: {m.group(1)}, start: {m.start()}, end: {m.end()} \\n\")\n",
    "\n",
    "sub = re.sub(regex, \"[XXX]\", logs)        # Change the content of matched content\n",
    "print(sub + \"\\n\")\n",
    "\n",
    "split = re.split(r\"\\s+\", logs)           # Split the strings inside\n",
    "print(split[:10], \"...\")"
   ]
  },
  {
   "cell_type": "code",
   "execution_count": 2,
   "id": "4b1d4cb6-d9e1-499a-879e-30022b500d33",
   "metadata": {},
   "outputs": [
    {
     "name": "stdout",
     "output_type": "stream",
     "text": [
      "['user1', 'user2', 'user3']\n",
      "['gmail.com', 'example.com']\n",
      "['1', '123', '2', '3', '123', '4567', '890']\n",
      "['\\nuser', ': john_doe', '@gmail.com\\nuser', ': jane-doe@company.net\\nuser', ': bad_user@@example.com\\nNumbers: ', ' ', ' ', '\\n']\n",
      "['user1', 'john_doe123', 'gmail', 'com', 'user2', 'jane', 'doe', 'company', 'net', 'user3', 'bad_user', 'example', 'com', 'Numbers', '123', '4567', '890']\n",
      "['\\n', ': ', '@', '.', '\\n', ': ', '-', '@', '.', '\\n', ': ', '@@', '.', '\\n', ': ', ' ', ' ', '\\n']\n",
      "['\\n', ' ', '\\n', ' ', '\\n', ' ', '\\n', ' ', ' ', ' ', '\\n']\n",
      "['user1:', 'john_doe123@gmail.com', 'user2:', 'jane-doe@company.net', 'user3:', 'bad_user@@example.com', 'Numbers:', '123', '4567', '890']\n",
      "['user1', 'user2', 'user3', 'user@']\n",
      "['123', '123', '456', '890']\n",
      "['user1: john_doe123@gmail.com', 'user2: jane-doe@company.net', 'user3: bad_user@@example.com']\n",
      "['user', 'john', 'doe', 'gmail', 'com', 'user', 'jane', 'doe', 'company', 'net', 'user', 'bad', 'user', 'example', 'com', 'umbers']\n",
      "['1:', '_', '123@', '.', '2:', '-', '@', '.', '3:', '_', '@@', '.', 'N', ':', '123', '4567', '890']\n",
      "['john_doe123@gmail.com', 'jane-doe@company.net']\n"
     ]
    }
   ],
   "source": [
    "import re\n",
    "\n",
    "text = \"\"\"\n",
    "user1: john_doe123@gmail.com\n",
    "user2: jane-doe@company.net\n",
    "user3: bad_user@@example.com\n",
    "Numbers: 123 4567 890\n",
    "\"\"\"\n",
    "\n",
    "# 1. ^ and $ -> match start/end of line\n",
    "print(re.findall(r\"^user\\d\", text, re.M))  # ['user1', 'user2', 'user3']\n",
    "print(re.findall(r\"\\w+.com$\", text, re.M))\n",
    "\n",
    "# 2. \\d, \\D -> digits and non-digits\n",
    "print(re.findall(r\"\\d+\", text))  # ['1', '123', '2', '3', '4567', '890']\n",
    "print(re.findall(r\"\\D+\", text))  # all non-digit parts\n",
    "\n",
    "# 3. \\w, \\W -> word char and non-word char\n",
    "print(re.findall(r\"\\w+\", text))  # words and numbers\n",
    "print(re.findall(r\"\\W+\", text))  # spaces, punctuation, symbols\n",
    "\n",
    "# 4. \\s, \\S -> whitespace and non-whitespace\n",
    "print(re.findall(r\"\\s+\", text))  # spaces, newlines\n",
    "print(re.findall(r\"\\S+\", text))  # everything else\n",
    "\n",
    "# 5. . -> any character except newline\n",
    "print(re.findall(r\"user.\", text))  # user1, user2, user3\n",
    "\n",
    "# 6. *, +, ?, {n}, {n,}, {n,m} -> repetition\n",
    "print(re.findall(r\"\\d{2,3}\", text))  # numbers with 2 or 3 digits\n",
    "print(re.findall(r\".+@.+\\..+\", text))  # crude email match\n",
    "\n",
    "# 7. [], [^], [a-z], [0-9] -> character class\n",
    "print(re.findall(r\"[a-z]+\", text))  # all lowercase sequences\n",
    "print(re.findall(r\"[^a-z\\s]+\", text))  # everything except lowercase letters and spaces\n",
    "\n",
    "# 8. (), (?:), | -> groups and OR\n",
    "emails = re.findall(r\"(\\w+[-_]?\\w+@\\w+\\.\\w+)\", text)\n",
    "print(emails)  # captured emails\n"
   ]
  },
  {
   "cell_type": "markdown",
   "id": "cb5bc145-72a7-4441-90eb-5855de263c5a",
   "metadata": {},
   "source": [
    "# **Exercise: Log Analyzer**"
   ]
  },
  {
   "cell_type": "code",
   "execution_count": 37,
   "id": "fcb15a39-da1c-4a07-ab33-29534a4c5026",
   "metadata": {},
   "outputs": [
    {
     "name": "stdout",
     "output_type": "stream",
     "text": [
      "Valid emails: 4\n",
      "Valid usernames: 5\n",
      "Valid login: 3\n",
      "Valid time: 2\n",
      "Valid zipcode: 3\n",
      "Valid phone: 4\n"
     ]
    }
   ],
   "source": [
    "log_entries = [\n",
    "    \"User: john_doe, Email: john@example.com, Action: login, Time: 12:45pm, Zip: 10001, Phone: 212-345-9999\",\n",
    "    \"User: alice123, Email: alice@web.org, Action: logout, Time: 9:59 AM, Zip: 11104, Phone: 888-555-1234\",\n",
    "    \"User: bob, Email: bob.example.com, Action: error, Time: 6:60am, Zip: 90210, Phone: 123-123-12345\",\n",
    "    \"User: clara-k, Email: clara@site.co, Action: login, Time: 6:02 am, Zip: 85258-0001, Phone: 303-123-7300\",\n",
    "    \"User: admin, Email: admin@web.net, Action: login, Time: five o'clock, Zip: K1A0A9, Phone: +44 303 123 7300\",\n",
    "]\n",
    "\n",
    "def valid_username(log_list):\n",
    "    count = 0\n",
    "    regex = r\"^User: ([a-z]+)\"\n",
    "    for log in log_list:\n",
    "        result = re.search(regex, log)\n",
    "        if result:\n",
    "            count += 1\n",
    "    return count\n",
    "\n",
    "def valid_emails(log_list):\n",
    "    count = 0\n",
    "    regex = r\"Email: (\\w+@\\w+\\.\\w+)\"\n",
    "    for log in log_list:\n",
    "        result = re.search(regex, log)\n",
    "        if result:\n",
    "            count += 1\n",
    "    return count\n",
    "\n",
    "\n",
    "\n",
    "def valid_login(log_list):\n",
    "    count = 0\n",
    "    regex = r\"Action: login\"\n",
    "    for log in log_list:\n",
    "        result = re.search(regex, log)\n",
    "        if result:\n",
    "            count += 1\n",
    "    return count\n",
    "\n",
    "def valid_time(log_list):\n",
    "    count = 0\n",
    "    regex = r\"Time: (1[0-2]|0?[0-9]:)([0-5][0-9])\\s?[aApP][mM]\"\n",
    "    for log in log_list:\n",
    "        result = re.search(regex, log)\n",
    "        if result:\n",
    "            count += 1\n",
    "    return count\n",
    "\n",
    "def valid_zipcode(log_list):\n",
    "    count = 0\n",
    "    regex = r\"Zip: \\d{5}\\,\"\n",
    "    for log in log_list:\n",
    "        result = re.search(regex, log)\n",
    "        if result:\n",
    "            count += 1\n",
    "    return count\n",
    "\n",
    "def valid_phone(log_list):\n",
    "    count = 0\n",
    "    regex = r\"Phone: \\d{3}-\\d{3}-\\d{4}\"\n",
    "    for log in log_list:\n",
    "        result = re.search(regex, log)\n",
    "        if result:\n",
    "            count += 1\n",
    "    return count\n",
    "\n",
    "print(\"Valid emails: \" + str(valid_emails(log_entries)))\n",
    "print(\"Valid usernames: \" + str(valid_username(log_entries)))\n",
    "print(\"Valid login: \" + str(valid_login(log_entries)))\n",
    "print(\"Valid time: \" + str(valid_time(log_entries)))\n",
    "print(\"Valid zipcode: \" + str(valid_zipcode(log_entries)))\n",
    "print(\"Valid phone: \" + str(valid_phone(log_entries)))"
   ]
  },
  {
   "cell_type": "code",
   "execution_count": null,
   "id": "a103a61c-d1a6-4135-91f5-1f37a42a6846",
   "metadata": {},
   "outputs": [],
   "source": []
  }
 ],
 "metadata": {
  "kernelspec": {
   "display_name": "Python [conda env:base] *",
   "language": "python",
   "name": "conda-base-py"
  },
  "language_info": {
   "codemirror_mode": {
    "name": "ipython",
    "version": 3
   },
   "file_extension": ".py",
   "mimetype": "text/x-python",
   "name": "python",
   "nbconvert_exporter": "python",
   "pygments_lexer": "ipython3",
   "version": "3.13.5"
  }
 },
 "nbformat": 4,
 "nbformat_minor": 5
}
