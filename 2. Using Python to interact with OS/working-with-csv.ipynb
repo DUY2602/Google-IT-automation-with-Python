{
 "cells": [
  {
   "cell_type": "code",
   "execution_count": 1,
   "id": "6afefbd0-93f1-4056-bb7b-75076eea4db3",
   "metadata": {},
   "outputs": [],
   "source": [
    "import csv"
   ]
  },
  {
   "cell_type": "code",
   "execution_count": 12,
   "id": "c87d2d7f-856e-40b0-a142-339c4e00f047",
   "metadata": {},
   "outputs": [
    {
     "name": "stdout",
     "output_type": "stream",
     "text": [
      "ballon_dor_2025.csv created!\n"
     ]
    }
   ],
   "source": [
    "# Create CSV file top 10 Ballon d'Or 2025\n",
    "players = [\n",
    "    [\"Cristiano Ronaldo\", \"Al-Nassr\", \"Forward\"],\n",
    "    [\"Lionel Messi\", \"Inter Miami\", \"Forward\"],\n",
    "    [\"Kylian Mbappé\", \"Paris Saint-Germain\", \"Forward\"]\n",
    "]\n",
    "\n",
    "# Ghi dữ liệu vào CSV\n",
    "with open(\"ballon_dor_2025.csv\", \"w\", newline=\"\", encoding=\"utf-8\") as f:\n",
    "    writer = csv.writer(f)\n",
    "    writer.writerow([\"Name\", \"Team\", \"Position\"])  # Header\n",
    "    writer.writerows(players)\n",
    "\n",
    "print(\"ballon_dor_2025.csv created!\")"
   ]
  },
  {
   "cell_type": "code",
   "execution_count": 11,
   "id": "bf608cbb-32e1-4097-9102-d5964987d690",
   "metadata": {},
   "outputs": [
    {
     "name": "stdout",
     "output_type": "stream",
     "text": [
      "Name: Cristiano Ronaldo, Team: Al-Nassr, Position: Forward\n",
      "Name: Lionel Messi, Team: Inter Miami, Position: Forward\n",
      "Name: Kylian Mbappé, Team: Paris Saint-Germain, Position: Forward\n"
     ]
    }
   ],
   "source": [
    "with open(\"ballon_dor_2025.csv\", \"r\", encoding=\"utf-8\") as f:\n",
    "    csv_f = csv.reader(f)      # CSV file reader\n",
    "    next(csv_f)                # Skip the header\n",
    "    for row in csv_f:\n",
    "        name, team, position = row       # CSV file already split data for each column\n",
    "        print(\"Name: {}, Team: {}, Position: {}\".format(name, team, position))"
   ]
  },
  {
   "cell_type": "code",
   "execution_count": null,
   "id": "e8678ae9-30ff-4fe1-b00f-1a54447d0917",
   "metadata": {},
   "outputs": [],
   "source": []
  }
 ],
 "metadata": {
  "kernelspec": {
   "display_name": "Python [conda env:base] *",
   "language": "python",
   "name": "conda-base-py"
  },
  "language_info": {
   "codemirror_mode": {
    "name": "ipython",
    "version": 3
   },
   "file_extension": ".py",
   "mimetype": "text/x-python",
   "name": "python",
   "nbconvert_exporter": "python",
   "pygments_lexer": "ipython3",
   "version": "3.13.5"
  }
 },
 "nbformat": 4,
 "nbformat_minor": 5
}
