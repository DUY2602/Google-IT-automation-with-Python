{
 "cells": [
  {
   "cell_type": "markdown",
   "id": "42d9f963-5c94-4367-a14c-9f0ff0e3c5f6",
   "metadata": {},
   "source": [
    "# **Managing Data and Processes**"
   ]
  },
  {
   "cell_type": "code",
   "execution_count": 21,
   "id": "2cf0198a-a6f7-41df-8133-5056db1dc4e7",
   "metadata": {},
   "outputs": [
    {
     "name": "stdout",
     "output_type": "stream",
     "text": [
      "env: HOME=/root\n",
      "env: PLAYER=\"C.Ronaldo\"\n"
     ]
    }
   ],
   "source": [
    "import os"
   ]
  },
  {
   "cell_type": "markdown",
   "id": "47f991ce-bf06-467b-8e16-d864368a7bd7",
   "metadata": {},
   "source": [
    "# *Environmental variables*"
   ]
  },
  {
   "cell_type": "code",
   "execution_count": 27,
   "id": "77a2c5f9-01c6-4533-94da-29f80f970a50",
   "metadata": {},
   "outputs": [
    {
     "name": "stdout",
     "output_type": "stream",
     "text": [
      "env: HOME=/root\n",
      "env: MAJOR=\"Computer Science\"\n",
      "env: PLAYER=\"C.Ronaldo\"\n",
      "\n",
      "\n",
      "\n",
      "HOME: /root\n",
      "USERPROFILE:  C:\\Users\\vppho\n",
      "MAJOR: \"Computer Science\"\n",
      "PLAYER: \"C.Ronaldo\"\n"
     ]
    }
   ],
   "source": [
    "%env HOME=/root\n",
    "%env MAJOR=\"Computer Science\"\n",
    "%env PLAYER=\"C.Ronaldo\"\n",
    "print(\"\\n\\n\")\n",
    "\n",
    "print(\"HOME:\", os.environ.get(\"HOME\", \"Not set\"))\n",
    "print(\"USERPROFILE: \", os.environ.get(\"USERPROFILE\"), \"Not set\")\n",
    "print(\"MAJOR:\", os.environ.get(\"MAJOR\", \"Not set\"))\n",
    "print(\"PLAYER:\", os.environ.get(\"PLAYER\", \"Not set\"))"
   ]
  },
  {
   "cell_type": "code",
   "execution_count": null,
   "id": "5cb65cb8-6003-46f5-858d-259cac0402c3",
   "metadata": {},
   "outputs": [],
   "source": []
  }
 ],
 "metadata": {
  "kernelspec": {
   "display_name": "base",
   "language": "python",
   "name": "python3"
  },
  "language_info": {
   "codemirror_mode": {
    "name": "ipython",
    "version": 3
   },
   "file_extension": ".py",
   "mimetype": "text/x-python",
   "name": "python",
   "nbconvert_exporter": "python",
   "pygments_lexer": "ipython3",
   "version": "3.12.7"
  }
 },
 "nbformat": 4,
 "nbformat_minor": 5
}
