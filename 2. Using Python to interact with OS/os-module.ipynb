{
 "cells": [
  {
   "cell_type": "code",
   "execution_count": 23,
   "id": "435eadd5-c208-469c-80e6-1932bdd3038f",
   "metadata": {},
   "outputs": [],
   "source": [
    "import os\n",
    "from datetime import datetime"
   ]
  },
  {
   "cell_type": "markdown",
   "id": "46bfabdf-408c-4f4d-ad58-9629a703d63d",
   "metadata": {},
   "source": [
    "# **File Path**"
   ]
  },
  {
   "cell_type": "code",
   "execution_count": 11,
   "id": "b10925c1-c6d3-488f-b654-3ef6191729ad",
   "metadata": {
    "scrolled": true
   },
   "outputs": [
    {
     "data": {
      "text/plain": [
       "7350"
      ]
     },
     "execution_count": 11,
     "metadata": {},
     "output_type": "execute_result"
    }
   ],
   "source": [
    "os.getcwd()     # get Current Working Directory\n",
    "\n",
    "os.path.abspath(\"soccer_match.txt\")    # get path for another file\n",
    "\n",
    "os.path.exists(\"simple-file-action.ipynb\")        # Check if file is existed\n",
    "\n",
    "os.mkdir(\"new_dir\")      # Create a new directory\n",
    "\n",
    "os.chdir(\"new_dir\")      # Change the cwd to new_dir\n",
    "\n",
    "os.rmdir(\"new_dir\")      # Remove new_dir\n",
    "\n",
    "os.listdir(\"Google IT automation with Python\")"
   ]
  },
  {
   "cell_type": "markdown",
   "id": "fa320554-096b-4f4f-b710-a406549e7e72",
   "metadata": {},
   "source": [
    "# **Working with File**"
   ]
  },
  {
   "cell_type": "code",
   "execution_count": 25,
   "id": "b80bc788-265e-4ba6-bb7c-0ff063af972c",
   "metadata": {},
   "outputs": [
    {
     "name": "stdout",
     "output_type": "stream",
     "text": [
      "2025-08-28\n"
     ]
    }
   ],
   "source": [
    "# os.rename(\"testing-os.txt\", \"testOS.txt\")      # Rename the file\n",
    "\n",
    "# os.remove(\"testOS.txt\")      # Remove the file\n",
    "\n",
    "os.path.getsize(\"os-module.ipynb\")       # Get the file size\n",
    "\n",
    "timestamp = os.path.getmtime(\"os-module.ipynb\")         # Get the time at last modification\n",
    "dt = datetime.fromtimestamp(timestamp)\n",
    "print(dt.strftime(\"%Y-%m-%d\"))         # chỉ in yyyy-mm-dd\n"
   ]
  }
 ],
 "metadata": {
  "kernelspec": {
   "display_name": "Python [conda env:base] *",
   "language": "python",
   "name": "conda-base-py"
  },
  "language_info": {
   "codemirror_mode": {
    "name": "ipython",
    "version": 3
   },
   "file_extension": ".py",
   "mimetype": "text/x-python",
   "name": "python",
   "nbconvert_exporter": "python",
   "pygments_lexer": "ipython3",
   "version": "3.13.5"
  }
 },
 "nbformat": 4,
 "nbformat_minor": 5
}
