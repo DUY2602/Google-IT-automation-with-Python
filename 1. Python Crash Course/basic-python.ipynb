{
 "cells": [
  {
   "cell_type": "markdown",
   "id": "6a44c2fd-3d48-4eeb-ab9f-44328e61b3ff",
   "metadata": {},
   "source": [
    "# **Input / Output, Variables, Data Types**"
   ]
  },
  {
   "cell_type": "code",
   "execution_count": 3,
   "id": "f4ed52d7-65e4-4bb4-af4d-ebefda7f4236",
   "metadata": {},
   "outputs": [
    {
     "name": "stdin",
     "output_type": "stream",
     "text": [
      "Enter your name:  duy\n"
     ]
    },
    {
     "name": "stdout",
     "output_type": "stream",
     "text": [
      "Hello  duy\n",
      "Your age is 19\n",
      "Your height is 1.7m\n"
     ]
    }
   ],
   "source": [
    "name = input(\"Enter your name: \")\n",
    "print(\"Hello \", name)\n",
    "\n",
    "# Declare and assigning variables\n",
    "age = 19   # integer\n",
    "city = \"Ho Chi Minh\"   # string\n",
    "isStudent = True     # boolean\n",
    "height = 1.70      # float\n",
    "\n",
    "# Printing different variables\n",
    "print(\"Your age is {}\".format(age))\n",
    "print(\"Your height is \" + str(height) + \"m\")   # When using + to concat string, need to convert the data type of variables\n",
    "\n"
   ]
  },
  {
   "cell_type": "markdown",
   "id": "4c2c70f0-3ad2-4203-87d0-2821d6b4c7e8",
   "metadata": {},
   "source": [
    "# **Loops, Conditional Statement**"
   ]
  },
  {
   "cell_type": "code",
   "execution_count": 6,
   "id": "87c132cb-5712-45e0-a1e6-d51a843912ed",
   "metadata": {},
   "outputs": [
    {
     "name": "stdout",
     "output_type": "stream",
     "text": [
      "While loop\n",
      "1\n",
      "2\n",
      "3\n",
      "4\n",
      "5\n",
      "\n",
      "For loop\n",
      "0\n",
      "1\n",
      "2\n",
      "3\n",
      "4\n",
      "5\n",
      "6\n",
      "7\n",
      "8\n",
      "9\n",
      "Counting up: 1,2,3,4,5,6,7,8,9,10\n",
      "Counting down: 2,1\n",
      "Counting up: 5\n"
     ]
    }
   ],
   "source": [
    "print(\"While loop\")\n",
    "i = 1\n",
    "while i <= 5:\n",
    "    print(i)\n",
    "    i += 1\n",
    "\n",
    "print(\"\\nFor loop\")\n",
    "for n in range(10):\n",
    "    print(n)\n",
    "\n",
    "def counter(start, stop):\n",
    "    if start > stop:\n",
    "        return_string = \"Counting down: \"\n",
    "        while start >= stop:    # Complete the while loop\n",
    "            return_string += str(start)    # Add the numbers to the \"return_string\"\n",
    "            if start > stop:\n",
    "                return_string += \",\"\n",
    "            start -= 1    # Increment the appropriate variable\n",
    "    else:\n",
    "        return_string = \"Counting up: \"\n",
    "        while start <= stop:    # Complete the while loop\n",
    "            return_string += str(start)    # Add the numbers to the \"return_string\"\n",
    "            if start < stop:\n",
    "                return_string += \",\"\n",
    "            start += 1    # Increment the appropriate variable\n",
    "    return return_string\n",
    "\n",
    "\n",
    "print(counter(1, 10))    # Should be \"Counting up: 1,2,3,4,5,6,7,8,9,10\"\n",
    "print(counter(2, 1))    # Should be \"Counting down: 2,1\"\n",
    "print(counter(5, 5))    # Should be \"Counting up: 5\"\n"
   ]
  },
  {
   "cell_type": "markdown",
   "id": "10f9e026-3b13-4858-8b41-9130cc39f835",
   "metadata": {},
   "source": [
    "# **Recursion**"
   ]
  },
  {
   "cell_type": "code",
   "execution_count": 8,
   "id": "dc839629-d2cd-4d53-86dd-9d4417f27a08",
   "metadata": {},
   "outputs": [
    {
     "name": "stdout",
     "output_type": "stream",
     "text": [
      "6\n",
      "15\n",
      "True\n",
      "True\n",
      "False\n"
     ]
    }
   ],
   "source": [
    "def sum_positive_numbers(n):\n",
    "    if n < 1:\n",
    "        return 0\n",
    "    return n + sum_positive_numbers(n - 1)   # Call the function inside itself as a loop but different parameter\n",
    "\n",
    "\n",
    "print(sum_positive_numbers(3))    # Should be 6\n",
    "print(sum_positive_numbers(5))    # Should be 15\n",
    "\n",
    "def is_power_of(number, base):\n",
    " # Base case: when number is smaller than base.\n",
    "    if number < base:\n",
    "        # If number is equal to 1, it's a power (base**0).\n",
    "        return number == 1\n",
    "\n",
    "    # Recursive case: keep dividing number by base.\n",
    "    return is_power_of(number / base, base)\n",
    "\n",
    "\n",
    "print(is_power_of(8, 2))     # Should be True\n",
    "print(is_power_of(64, 4))    # Should be True\n",
    "print(is_power_of(70, 10))   # Should be False"
   ]
  }
 ],
 "metadata": {
  "kernelspec": {
   "display_name": "Python [conda env:base] *",
   "language": "python",
   "name": "conda-base-py"
  },
  "language_info": {
   "codemirror_mode": {
    "name": "ipython",
    "version": 3
   },
   "file_extension": ".py",
   "mimetype": "text/x-python",
   "name": "python",
   "nbconvert_exporter": "python",
   "pygments_lexer": "ipython3",
   "version": "3.13.5"
  }
 },
 "nbformat": 4,
 "nbformat_minor": 5
}
