{
 "cells": [
  {
   "cell_type": "markdown",
   "id": "b4eb5739-4ffc-4502-b0c4-55fd28ddc54a",
   "metadata": {},
   "source": [
    "# **String**"
   ]
  },
  {
   "cell_type": "code",
   "execution_count": 7,
   "id": "56c2cba0-7d70-46f4-92d5-54d042112c5d",
   "metadata": {},
   "outputs": [
    {
     "name": "stdout",
     "output_type": "stream",
     "text": [
      "G o o g l e I T a u t o m a t i o n w i t h P y t h o n nohtyPhtiwnoitamotuaTIelgooG\n",
      "Jane S.\n",
      "Francesco R.\n",
      "Jean-Luc G.\n",
      "It's raining cats and dogs\n",
      "She sells seashells by the seashore\n",
      "The weather is nice in May\n",
      "The weather is nice in April\n"
     ]
    }
   ],
   "source": [
    "name = \"GoogleITautomationwithPython\"\n",
    "for c in range(len(name)):\n",
    "    print(name[c], end=\" \")     # Loop through string by indexing\n",
    "\n",
    "reverse_name = name[::-1]       # Reverse a string\n",
    "print(reverse_name)\n",
    "\n",
    "def nametag(first_name, last_name):\n",
    "    return(\"{} {}.\".format(first_name, last_name[0]))\n",
    "\n",
    "\n",
    "print(nametag(\"Jane\", \"Smith\"))\n",
    "# Should display \"Jane S.\"\n",
    "print(nametag(\"Francesco\", \"Rinaldi\"))\n",
    "# Should display \"Francesco R.\"\n",
    "print(nametag(\"Jean-Luc\", \"Grand-Pierre\"))\n",
    "# Should display \"Jean-Luc G.\"\n",
    "\n",
    "def replace_ending(sentence, old, new):\n",
    "    # Check if the old substring is at the end of the sentence\n",
    "    if sentence.endswith(old):\n",
    "        # Using i as the slicing index, combine the part\n",
    "        # of the sentence up to the matched string at the\n",
    "        # end with the new string\n",
    "        i = len(sentence) - len(old)\n",
    "        new_sentence = sentence[:i] + new\n",
    "        return new_sentence\n",
    "\n",
    "\n",
    "    # Return the original sentence if there is no match\n",
    "    return sentence\n",
    "\n",
    "print(replace_ending(\"It's raining cats and cats\", \"cats\", \"dogs\"))\n",
    "# Should display \"It's raining cats and dogs\"\n",
    "print(replace_ending(\"She sells seashells by the seashore\", \"seashells\", \"donuts\"))\n",
    "# Should display \"She sells seashells by the seashore\"\n",
    "print(replace_ending(\"The weather is nice in May\", \"may\", \"april\"))\n",
    "# Should display \"The weather is nice in May\"\n",
    "print(replace_ending(\"The weather is nice in May\", \"May\", \"April\"))\n",
    "# Should display \"The weather is nice in April\"\n"
   ]
  },
  {
   "cell_type": "markdown",
   "id": "650f6efe-4fba-46c3-91f9-4730682d5bd7",
   "metadata": {},
   "source": [
    "# **List**"
   ]
  },
  {
   "cell_type": "code",
   "execution_count": 16,
   "id": "a6199900-2d09-49bd-80bd-b72a5ce3e185",
   "metadata": {},
   "outputs": [
    {
     "name": "stdout",
     "output_type": "stream",
     "text": [
      "7\n",
      "Thursday\n",
      "['Friday', 'Saturday', 'Sunday']\n",
      "['Monday', 'Tuesday', 'Wednesday', 'Thursday']\n",
      "['Tuesday', 'Wednesday']\n",
      "['Holiday', 'Saturday', 'Friday', 'Thursday', 'Insert an element', 'Wednesday', 'Tuesday', 'Monday']\n"
     ]
    }
   ],
   "source": [
    "days = [\"Monday\", \"Tuesday\", \"Wednesday\", \"Thursday\", \"Friday\", \"Saturday\", \"Sunday\"]\n",
    "print(len(days))    # Length of list\n",
    "print(days[3])      # Access the element which has the index 3\n",
    "\n",
    "# Slicing\n",
    "print(days[4:])     # Access the elements start from index 4\n",
    "print(days[:4])     # Access the elemnts from beginning to index 3\n",
    "print(days[1:3])    # Access the elements from index 1 to 2\n",
    "\n",
    "days.append(\"Holiday\")    # Add an element to the end of list\n",
    "days.remove(\"Sunday\")     # Remove element Sunday\n",
    "days.insert(3, \"Insert an element\")     # Insert an element at index 3\n",
    "days.reverse()"
   ]
  },
  {
   "cell_type": "markdown",
   "id": "0a07e8e9-6858-44aa-b0ba-4c59bb538d55",
   "metadata": {},
   "source": [
    "# **Tuple**"
   ]
  },
  {
   "cell_type": "code",
   "execution_count": 17,
   "id": "e758fa66-7599-4b87-9e32-b55e540e0bb8",
   "metadata": {},
   "outputs": [
    {
     "name": "stdout",
     "output_type": "stream",
     "text": [
      "Raw data from tuple:  ('C.Ronaldo', 40, 'Al-nassr')\n",
      "C.Ronaldo is a 40 years old footballer, playing for Al-nassr\n"
     ]
    }
   ],
   "source": [
    "# Because of its immutable characteristic, tuples are frequently used to store unchanged data\n",
    "\n",
    "person_1 = (\"C.Ronaldo\", 40, \"Al-nassr\")\n",
    "print(\"Raw data from tuple: \", person_1)\n",
    "\n",
    "name = person_1[0]\n",
    "age = person_1[1]\n",
    "club = person_1[2]\n",
    "print(\"{} is a {} years old footballer, playing for {}\".format(name, age, club))"
   ]
  }
 ],
 "metadata": {
  "kernelspec": {
   "display_name": "Python [conda env:base] *",
   "language": "python",
   "name": "conda-base-py"
  },
  "language_info": {
   "codemirror_mode": {
    "name": "ipython",
    "version": 3
   },
   "file_extension": ".py",
   "mimetype": "text/x-python",
   "name": "python",
   "nbconvert_exporter": "python",
   "pygments_lexer": "ipython3",
   "version": "3.13.5"
  }
 },
 "nbformat": 4,
 "nbformat_minor": 5
}
